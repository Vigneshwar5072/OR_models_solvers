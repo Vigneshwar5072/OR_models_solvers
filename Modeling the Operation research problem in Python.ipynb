{
 "cells": [
  {
   "cell_type": "markdown",
   "metadata": {},
   "source": [
    "# Modeling the basic Operations Research Problem in Python, Solvers: PuLP, Gurobi, CPLEX and Google-OR Tools"
   ]
  },
  {
   "cell_type": "markdown",
   "metadata": {},
   "source": [
    "An optimization model is a problem which has an objective (or a set of objectives in multi-objective programming), a set of constraints, and a set of decision variables. The following is a simple optimization model:\n",
    "\n",
    "Here is the basic model, I imported the image into the notebook."
   ]
  },
  {
   "cell_type": "code",
   "execution_count": 7,
   "metadata": {},
   "outputs": [
    {
     "data": {
      "image/png": "[encoded data removed]",
      "text/plain": [
       "<IPython.core.display.Image object>"
      ]
     },
     "execution_count": 7,
     "metadata": {
      "image/png": {
       "height": 200,
       "width": 400
      }
     },
     "output_type": "execute_result"
    }
   ],
   "source": [
    "from IPython.display import Image\n",
    "Image(filename='C:/Users/per35/Pictures/model.png',width=400, height=200)"
   ]
  },
  {
   "cell_type": "markdown",
   "metadata": {},
   "source": [
    "In the above optimization example, n, m, a, c, l, u and b are input parameters and assumed to be given. \n",
    "In order to write Python code, we set these parameters as follows:"
   ]
  },
  {
   "cell_type": "code",
   "execution_count": 8,
   "metadata": {},
   "outputs": [],
   "source": [
    "import random\n",
    "\n",
    "n = 50\n",
    "m = 25\n",
    "I_set = range(1, n + 1)\n",
    "J_set = range(1, m + 1)\n",
    "\n",
    "c = {(i, j) : random.normalvariate(0, 1) for i in I_set for j in J_set}\n",
    "a = {(i, j) : random.normalvariate(0, 5) for i in I_set for j in J_set}\n",
    "l = {(i, j) : random.normalvariate(0, 10) for i in I_set for j in J_set}\n",
    "u = {(i, j) : random.normalvariate(10, 20) for i in I_set for j in J_set}\n",
    "b = {j : random.randint(0, 30) for j in J_set}"
   ]
  },
  {
   "cell_type": "markdown",
   "metadata": {},
   "source": [
    "Now its a time to implement the actual OR problem in various solvers:'\n",
    "\n",
    "\n",
    "    Step-1: Will implement in Gurobi.\n",
    "    Step-2: Will implement in CPLEX.\n",
    "    Step-3: Will implement in PuLP\n",
    "    Step-4: Will implement in Google-OR tools        "
   ]
  },
  {
   "cell_type": "markdown",
   "metadata": {},
   "source": [
    "# Gurobi Implementation"
   ]
  },
  {
   "cell_type": "code",
   "execution_count": null,
   "metadata": {},
   "outputs": [],
   "source": [
    "#import the gurobi as grb into python:\n",
    "import gurobiby as grb\n",
    "opt_model = grb.Model(name = \"MIP Model\")"
   ]
  },
  {
   "cell_type": "markdown",
   "metadata": {},
   "source": [
    "Building the decision variables of the model into the python dictionary:\n",
    "Here the key element acts as a decison variable and the values are deicison variable objects\n",
    "    "
   ]
  },
  {
   "cell_type": "markdown",
   "metadata": {},
   "source": [
    "A decision variable is defined mainly on the three properties; such as:\n",
    "\n",
    "    1. It can be continuous\n",
    "    2. It can be Integer\n",
    "    3. It can be binary"
   ]
  },
  {
   "cell_type": "code",
   "execution_count": null,
   "metadata": {},
   "outputs": [],
   "source": [
    "#if x is continuous:\n",
    "x_vars = {(i, j): opt_model.addVar(vtype = grb.GRB.CONTINUOUS,\n",
    "                                  lb = l[i, j],\n",
    "                                  ub = u[i, j],\n",
    "                                  name = \"x_{0}_{1}\".format(i, j))\n",
    "         for i in I_set for j in J_set}\n",
    "\n",
    "#if x is binary:\n",
    "x_vars = {(i, j):opt.model.addVar(vtype = grb.GRB.BINARY,\n",
    "                                  name = \"x_{0}_{1}\".format(i, j))\n",
    "          for i in I_set for j in J_set\n",
    "         }\n",
    "\n",
    "#if x is Integer:\n",
    "x_vars = {(i, j): opt_model.addVar(vtype = grb.GRB.CONTINUOUS,\n",
    "                                  lb = l[i, j],\n",
    "                                  ub = u[i, j],\n",
    "                                  name = \"x_{0}_{1}\".format(i, j))\n",
    "         for i in I_set for j in J_set}\n"
   ]
  },
  {
   "cell_type": "markdown",
   "metadata": {},
   "source": [
    "After adding the decision variables to the model, the next step is to add the constraints to the model.\n",
    "Any constraints has three parts: \n",
    "\n",
    "    Left hand: It is a linear combination of decision variables\n",
    "    Right hand: Generally a numberic value\n",
    "    sense: Less than, Greater than or equals    "
   ]
  },
  {
   "cell_type": "code",
   "execution_count": null,
   "metadata": {},
   "outputs": [],
   "source": [
    "# <= constraints\n",
    "constraints = {j : opt_model.addConstr(\n",
    "               lhs = grb.quicksum(a[i, j] * x_vars[i,j] for i in I_set),\n",
    "               sense = grb.GRB.LESS_EQUAL,\n",
    "               rhs = b[j], \n",
    "               name = \"constraint_{0}\".format(j))\n",
    "               for j in J_set}\n",
    "# >= constraints\n",
    "constraints = {j : opt_model.addConstr(\n",
    "               lhs = grb.quicksum(a[i, j] * x_vars[i, j] for i in I_set),\n",
    "               sense = grb.GRB.GREATER_EQUAL,\n",
    "               rhs = b[j], \n",
    "               name = \"constraint_{0}\".format(j))\n",
    "               for j in J_set}\n",
    "# == constraints\n",
    "constraints = {j : opt_model.addConstr(\n",
    "               lhs = grb.quicksum(a[i, j] * x_vars[i, j] for i in I_set),\n",
    "               sense = grb.GRB.EQUAL,\n",
    "               rhs = b[j], \n",
    "               name = \"constraint_{0}\".format(j))\n",
    "               for j in J_set}"
   ]
  },
  {
   "cell_type": "markdown",
   "metadata": {},
   "source": [
    "Next step is defining the objective function, in this case we have a linear expression. \n",
    "\n",
    "Here is how I defined my objective function:\n",
    "    "
   ]
  },
  {
   "cell_type": "code",
   "execution_count": null,
   "metadata": {},
   "outputs": [],
   "source": [
    "objective = grb.quicksum(x_vars[i,j] * c[i,j] \n",
    "                         for i in I_set \n",
    "                         for j in J_set)"
   ]
  },
  {
   "cell_type": "markdown",
   "metadata": {},
   "source": [
    "Here is the code that I am calling for OBJECTIVE that I needed:"
   ]
  },
  {
   "cell_type": "code",
   "execution_count": null,
   "metadata": {},
   "outputs": [],
   "source": [
    "# for maximization\n",
    "opt_model.ModelSense = grb.GRB.MAXIMIZE\n",
    "# for minimization\n",
    "opt_model.ModelSense = grb.GRB.MINIMIZE\n",
    "\n",
    "opt_model.setObjective(objective)\n",
    "\n",
    "opt_model.optimize()"
   ]
  },
  {
   "cell_type": "markdown",
   "metadata": {},
   "source": [
    "# PuLP Implementation"
   ]
  },
  {
   "cell_type": "code",
   "execution_count": 19,
   "metadata": {},
   "outputs": [
    {
     "name": "stderr",
     "output_type": "stream",
     "text": [
      "C:\\Users\\per35\\Anaconda3\\lib\\site-packages\\pulp\\pulp.py:1198: UserWarning: Spaces are not permitted in the name. Converted to '_'\n",
      "  warnings.warn(\"Spaces are not permitted in the name. Converted to '_'\")\n"
     ]
    }
   ],
   "source": [
    "#import the pulp as plp into python:\n",
    "import pulp as plp\n",
    "opt_model = plp.LpProblem(name=\"MIP Model\")"
   ]
  },
  {
   "cell_type": "code",
   "execution_count": 22,
   "metadata": {},
   "outputs": [],
   "source": [
    "# if x is Continuous\n",
    "x_vars  = {(i,j):\n",
    "plp.LpVariable(cat=plp.LpContinuous, \n",
    "               lowBound=l[i,j], upBound=u[i,j], \n",
    "               name=\"x_{0}_{1}\".format(i,j)) \n",
    "for i in I_set for j in J_set}\n",
    "# if x is Binary\n",
    "x_vars  = {(i,j):\n",
    "plp.LpVariable(cat=plp.LpBinary, name=\"x_{0}_{1}\".format(i,j)) \n",
    "for i in I_set for j in J_set}\n",
    "# if x is Integer\n",
    "x_vars  = {(i,j):\n",
    "plp.LpVariable(cat=plp.LpInteger, \n",
    "               lowBound=l[i,j], upBound= u[i,j],\n",
    "               name=\"x_{0}_{1}\".format(i,j)) \n",
    "for i in I_set for j in J_set}"
   ]
  },
  {
   "cell_type": "code",
   "execution_count": 24,
   "metadata": {},
   "outputs": [
    {
     "ename": "PulpError",
     "evalue": "overlapping constraint names: constraint_1",
     "output_type": "error",
     "traceback": [
      "\u001b[1;31m---------------------------------------------------------------------------\u001b[0m",
      "\u001b[1;31mPulpError\u001b[0m                                 Traceback (most recent call last)",
      "\u001b[1;32m<ipython-input-24-2b0dbf0dbd42>\u001b[0m in \u001b[0;36m<module>\u001b[1;34m\u001b[0m\n\u001b[0;32m     10\u001b[0m        for j in J_set}\n\u001b[0;32m     11\u001b[0m \u001b[1;31m# == constraints\u001b[0m\u001b[1;33m\u001b[0m\u001b[1;33m\u001b[0m\u001b[1;33m\u001b[0m\u001b[0m\n\u001b[1;32m---> 12\u001b[1;33m constraints = {j : opt_model.addConstraint(\n\u001b[0m\u001b[0;32m     13\u001b[0m plp.LpConstraint(\n\u001b[0;32m     14\u001b[0m              \u001b[0me\u001b[0m\u001b[1;33m=\u001b[0m\u001b[0mplp\u001b[0m\u001b[1;33m.\u001b[0m\u001b[0mlpSum\u001b[0m\u001b[1;33m(\u001b[0m\u001b[0ma\u001b[0m\u001b[1;33m[\u001b[0m\u001b[0mi\u001b[0m\u001b[1;33m,\u001b[0m\u001b[0mj\u001b[0m\u001b[1;33m]\u001b[0m \u001b[1;33m*\u001b[0m \u001b[0mx_vars\u001b[0m\u001b[1;33m[\u001b[0m\u001b[0mi\u001b[0m\u001b[1;33m,\u001b[0m\u001b[0mj\u001b[0m\u001b[1;33m]\u001b[0m \u001b[1;32mfor\u001b[0m \u001b[0mi\u001b[0m \u001b[1;32min\u001b[0m \u001b[0mI_set\u001b[0m\u001b[1;33m)\u001b[0m\u001b[1;33m,\u001b[0m\u001b[1;33m\u001b[0m\u001b[1;33m\u001b[0m\u001b[0m\n",
      "\u001b[1;32m<ipython-input-24-2b0dbf0dbd42>\u001b[0m in \u001b[0;36m<dictcomp>\u001b[1;34m(.0)\u001b[0m\n\u001b[0;32m     10\u001b[0m        for j in J_set}\n\u001b[0;32m     11\u001b[0m \u001b[1;31m# == constraints\u001b[0m\u001b[1;33m\u001b[0m\u001b[1;33m\u001b[0m\u001b[1;33m\u001b[0m\u001b[0m\n\u001b[1;32m---> 12\u001b[1;33m constraints = {j : opt_model.addConstraint(\n\u001b[0m\u001b[0;32m     13\u001b[0m plp.LpConstraint(\n\u001b[0;32m     14\u001b[0m              \u001b[0me\u001b[0m\u001b[1;33m=\u001b[0m\u001b[0mplp\u001b[0m\u001b[1;33m.\u001b[0m\u001b[0mlpSum\u001b[0m\u001b[1;33m(\u001b[0m\u001b[0ma\u001b[0m\u001b[1;33m[\u001b[0m\u001b[0mi\u001b[0m\u001b[1;33m,\u001b[0m\u001b[0mj\u001b[0m\u001b[1;33m]\u001b[0m \u001b[1;33m*\u001b[0m \u001b[0mx_vars\u001b[0m\u001b[1;33m[\u001b[0m\u001b[0mi\u001b[0m\u001b[1;33m,\u001b[0m\u001b[0mj\u001b[0m\u001b[1;33m]\u001b[0m \u001b[1;32mfor\u001b[0m \u001b[0mi\u001b[0m \u001b[1;32min\u001b[0m \u001b[0mI_set\u001b[0m\u001b[1;33m)\u001b[0m\u001b[1;33m,\u001b[0m\u001b[1;33m\u001b[0m\u001b[1;33m\u001b[0m\u001b[0m\n",
      "\u001b[1;32m~\\Anaconda3\\lib\\site-packages\\pulp\\pulp.py\u001b[0m in \u001b[0;36maddConstraint\u001b[1;34m(self, constraint, name)\u001b[0m\n\u001b[0;32m   1487\u001b[0m         \u001b[1;32mif\u001b[0m \u001b[0mname\u001b[0m \u001b[1;32min\u001b[0m \u001b[0mself\u001b[0m\u001b[1;33m.\u001b[0m\u001b[0mconstraints\u001b[0m\u001b[1;33m:\u001b[0m\u001b[1;33m\u001b[0m\u001b[1;33m\u001b[0m\u001b[0m\n\u001b[0;32m   1488\u001b[0m             \u001b[1;32mif\u001b[0m \u001b[0mself\u001b[0m\u001b[1;33m.\u001b[0m\u001b[0mnoOverlap\u001b[0m\u001b[1;33m:\u001b[0m\u001b[1;33m\u001b[0m\u001b[1;33m\u001b[0m\u001b[0m\n\u001b[1;32m-> 1489\u001b[1;33m                 \u001b[1;32mraise\u001b[0m \u001b[0mconst\u001b[0m\u001b[1;33m.\u001b[0m\u001b[0mPulpError\u001b[0m\u001b[1;33m(\u001b[0m\u001b[1;34m\"overlapping constraint names: \"\u001b[0m \u001b[1;33m+\u001b[0m \u001b[0mname\u001b[0m\u001b[1;33m)\u001b[0m\u001b[1;33m\u001b[0m\u001b[1;33m\u001b[0m\u001b[0m\n\u001b[0m\u001b[0;32m   1490\u001b[0m             \u001b[1;32melse\u001b[0m\u001b[1;33m:\u001b[0m\u001b[1;33m\u001b[0m\u001b[1;33m\u001b[0m\u001b[0m\n\u001b[0;32m   1491\u001b[0m                 \u001b[0mprint\u001b[0m\u001b[1;33m(\u001b[0m\u001b[1;34m\"Warning: overlapping constraint names:\"\u001b[0m\u001b[1;33m,\u001b[0m \u001b[0mname\u001b[0m\u001b[1;33m)\u001b[0m\u001b[1;33m\u001b[0m\u001b[1;33m\u001b[0m\u001b[0m\n",
      "\u001b[1;31mPulpError\u001b[0m: overlapping constraint names: constraint_1"
     ]
    }
   ],
   "source": [
    "# Less than equal constraints\n",
    "constraints = {j : opt_model.addConstraint(\n",
    "plp.LpConstraint(\n",
    "             e=m(a[i,j] * x_vars[i,j] for i in I_set),\n",
    "             sense=plp.plp.LpConstraintLE,\n",
    "             rhs=b[j],\n",
    "             name=\"constraint_{0}\".format(j)))\n",
    "       for j in J_set}\n",
    "# >= constraints\n",
    "constraints = {j : opt_model.addConstraint(\n",
    "plp.LpConstraint(\n",
    "             e=plp.lpSum(a[i,j] * x_vars[i,j] for i in I_set),\n",
    "             sense=plp.LpConstraintGE,\n",
    "             rhs=b[j],\n",
    "             name=\"constraint_{0}\".format(j)))\n",
    "       for j in J_set}\n",
    "# == constraints\n",
    "constraints = {j : opt_model.addConstraint(\n",
    "plp.LpConstraint(\n",
    "             e=plp.lpSum(a[i,j] * x_vars[i,j] for i in I_set),\n",
    "             sense=plp.LpConstraintEQ,\n",
    "             rhs=b[j],\n",
    "             name=\"constraint_{0}\".format(j)))\n",
    "       for j in J_set}"
   ]
  },
  {
   "cell_type": "code",
   "execution_count": null,
   "metadata": {},
   "outputs": [],
   "source": []
  }
 ],
 "metadata": {
  "kernelspec": {
   "display_name": "Python 3",
   "language": "python",
   "name": "python3"
  },
  "language_info": {
   "codemirror_mode": {
    "name": "ipython",
    "version": 3
   },
   "file_extension": ".py",
   "mimetype": "text/x-python",
   "name": "python",
   "nbconvert_exporter": "python",
   "pygments_lexer": "ipython3",
   "version": "3.8.5"
  }
 },
 "nbformat": 4,
 "nbformat_minor": 4
}
